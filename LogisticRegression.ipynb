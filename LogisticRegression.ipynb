{
 "cells": [
  {
   "cell_type": "code",
   "execution_count": 25,
   "metadata": {},
   "outputs": [
    {
     "name": "stdout",
     "output_type": "stream",
     "text": [
      "           x1         x2  y\n",
      "0   34.623660  78.024693  0\n",
      "1   30.286711  43.894998  0\n",
      "2   35.847409  72.902198  0\n",
      "3   60.182599  86.308552  1\n",
      "4   79.032736  75.344376  1\n",
      "..        ...        ... ..\n",
      "95  83.489163  48.380286  1\n",
      "96  42.261701  87.103851  1\n",
      "97  99.315009  68.775409  1\n",
      "98  55.340018  64.931938  1\n",
      "99  74.775893  89.529813  1\n",
      "\n",
      "[100 rows x 3 columns]\n",
      "b0 -6.471171727271606\n",
      "b1 0.06146928399035732\n",
      "b2 0.047584498576068855\n",
      "predicted values [1.0, 0.0, 1.0, 0.0, 0.0, 1.0, 1.0, 1.0, 1.0, 1.0, 1.0, 1.0, 0.0, 1.0, 1.0, 0.0, 1.0, 0.0, 1.0, 0.0]\n",
      "test values [1. 0. 1. 0. 0. 1. 0. 1. 1. 1. 1. 1. 0. 1. 1. 0. 1. 0. 1. 0.]\n"
     ]
    }
   ],
   "source": [
    "#importing packages\n",
    "import pandas as pd\n",
    "import math\n",
    "import numpy as np\n",
    "from sklearn.model_selection import train_test_split\n",
    "\n",
    "#reading dataset\n",
    "dataset = pd.read_csv ('Student-University.csv')\n",
    "print(dataset)\n",
    "\n",
    "#splitting the dataset into train and test\n",
    "X=dataset.values[:,0:2]\n",
    "Y=dataset.values[:,2]\n",
    "#print(X)\n",
    "#print(Y)\n",
    "\n",
    "X_train,X_test,y_train,y_test= train_test_split(X,Y,test_size = 0.20, random_state = 100)\n",
    "\n",
    "#initializing coefficients\n",
    "b0=0.0\n",
    "b1=0.0\n",
    "b2=0.0\n",
    "\n",
    "#calculating y b0=b0 + 0.01 * (y[j] - p[j]) * p[j] * (1 - p[j]) * 1.0\n",
    "        #b1=b1+0.01*(y[j]-p[j])*p[j]*(1-p[j])*x1[j]\n",
    "        #b2=b2+0.01*(y[j]-p[j])*p[j]*(1-p[j])*x2[j]\n",
    "x1=X_train[:,0]\n",
    "x2=X_train[:,1]\n",
    "#print(x1)\n",
    "\n",
    "i=0\n",
    "alpha=0.001\n",
    "while(i<10000):\n",
    "    for j in range(len(x1)):\n",
    "        p=(1/(1+np.exp(-(b0+b1*x1[j]+b2*x2[j]))))\n",
    "        b0=b0 + alpha * (y_train[j] - p) * p * (1 - p) * 1.0\n",
    "        b1=b1+alpha*(y_train[j]-p)*p*(1-p)*x1[j]\n",
    "        b2=b2+alpha*(y_train[j]-p)*p*(1-p)*x2[j]\n",
    "    i+=1\n",
    "\n",
    "\n",
    "print(\"b0\",b0)\n",
    "print(\"b1\",b1)\n",
    "print(\"b2\",b2)\n",
    "\n",
    "\n",
    "xtest1=X_test[:,0]\n",
    "xtest2=X_test[:,1]\n",
    "y_pred=[]\n",
    "for k in range(len(xtest1)):\n",
    "    y_pred.append(np.round(1/(1+np.exp(-(b0+b1*xtest1[k]+b2*xtest2[k])))))\n",
    "print(\"predicted values\",y_pred)\n",
    "print(\"test values\",y_test)"
   ]
  },
  {
   "cell_type": "code",
   "execution_count": 22,
   "metadata": {},
   "outputs": [
    {
     "name": "stdout",
     "output_type": "stream",
     "text": [
      "0.95\n"
     ]
    }
   ],
   "source": [
    "from sklearn.metrics import accuracy_score\n",
    "print(accuracy_score(y_test,y_pred))"
   ]
  },
  {
   "cell_type": "code",
   "execution_count": 23,
   "metadata": {},
   "outputs": [
    {
     "name": "stdout",
     "output_type": "stream",
     "text": [
      "<class 'pandas.core.frame.DataFrame'>\n",
      "RangeIndex: 100 entries, 0 to 99\n",
      "Data columns (total 3 columns):\n",
      "x1    100 non-null float64\n",
      "x2    100 non-null float64\n",
      "y     100 non-null int64\n",
      "dtypes: float64(2), int64(1)\n",
      "memory usage: 2.5 KB\n"
     ]
    }
   ],
   "source": [
    "dataset.info()"
   ]
  },
  {
   "cell_type": "code",
   "execution_count": 24,
   "metadata": {},
   "outputs": [
    {
     "data": {
      "text/plain": [
       "x1    0\n",
       "x2    0\n",
       "y     0\n",
       "dtype: int64"
      ]
     },
     "execution_count": 24,
     "metadata": {},
     "output_type": "execute_result"
    }
   ],
   "source": [
    "dataset.isnull().sum()"
   ]
  },
  {
   "cell_type": "code",
   "execution_count": null,
   "metadata": {},
   "outputs": [],
   "source": [
    "while(i<10000):\n",
    "    for j in range(len(x1)):\n",
    "        p=(1/(1+np.exp(-(b0+b1*x1[j]+b2*x2[j]))))\n",
    "    \n",
    "    i+=1\n",
    "\n",
    "\n",
    "print(\"b0\",b0)\n",
    "print(\"b1\",b1)\n",
    "print(\"b2\",b2)\n",
    "\n",
    "\n",
    "xtest1=X_test[:,0]\n",
    "xtest2=X_test[:,1]\n",
    "y_pred=[]\n",
    "for k in range(len(xtest1)):\n",
    "    y_pred.append(np.round(1/(1+np.exp(-(b0+b1*xtest1[k]+b2*xtest2[k])))))\n",
    "print(\"predicted values\",y_pred)\n",
    "print(\"test values\",y_test)"
   ]
  }
 ],
 "metadata": {
  "kernelspec": {
   "display_name": "Python 3",
   "language": "python",
   "name": "python3"
  },
  "language_info": {
   "codemirror_mode": {
    "name": "ipython",
    "version": 3
   },
   "file_extension": ".py",
   "mimetype": "text/x-python",
   "name": "python",
   "nbconvert_exporter": "python",
   "pygments_lexer": "ipython3",
   "version": "3.7.4"
  }
 },
 "nbformat": 4,
 "nbformat_minor": 2
}
